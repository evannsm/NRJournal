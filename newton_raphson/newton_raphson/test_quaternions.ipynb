{
 "cells": [
  {
   "cell_type": "code",
   "execution_count": 15,
   "metadata": {},
   "outputs": [],
   "source": [
    "from tf_transformations import euler_from_quaternion\n",
    "import numpy as np\n",
    "import math as m\n"
   ]
  },
  {
   "cell_type": "code",
   "execution_count": 16,
   "metadata": {},
   "outputs": [],
   "source": [
    "def angle_wrapper(angle):\n",
    "    angle += m.pi\n",
    "    angle = angle % (2 * m.pi)  # Ensure the angle is between 0 and 2π\n",
    "    if angle > m.pi:            # If angle is in (π, 2π], subtract 2π to get it in (-π, 0]\n",
    "        angle -= 2 * m.pi\n",
    "    if angle < -m.pi:           # If angle is in (-2π, -π), add 2π to get it in (0, π]\n",
    "        angle += 2 * m.pi\n",
    "    return -angle"
   ]
  },
  {
   "cell_type": "code",
   "execution_count": 17,
   "metadata": {},
   "outputs": [],
   "source": [
    "quat = [0.801, -0.596, 0.03, 0.03]\n",
    "(yaw, pitch, roll) = euler_from_quaternion(quat)\n",
    "# print(f\"old_yaw: {yaw}\")\n",
    "yaw = angle_wrapper(yaw)\n",
    "pitch = -1 * pitch #pitch is negative of the value in gazebo bc of frame difference\n"
   ]
  },
  {
   "cell_type": "code",
   "execution_count": 18,
   "metadata": {},
   "outputs": [
    {
     "name": "stdout",
     "output_type": "stream",
     "text": [
      "euler = (-1.2788703856757342, 0.08403495606224021, 0.012360968244885306)\n"
     ]
    }
   ],
   "source": [
    "euler = (roll,pitch,yaw)\n",
    "print(f\"{euler = }\")"
   ]
  },
  {
   "cell_type": "code",
   "execution_count": 67,
   "metadata": {},
   "outputs": [],
   "source": [
    "# quat =  [ 0.97270566,  0.22684115, -0.04827182, -0.00751957]\n",
    "quat = [0.86, -0.004, 0.507, 0.008]\n",
    "quat = [ 0.9916877 , -0.01131261, -0.12755804,  0.01250947]\n",
    "(yaw, pitch, roll) = euler_from_quaternion(quat)\n",
    "# print(f\"old_yaw: {yaw}\")\n",
    "yaw = angle_wrapper(yaw)\n",
    "pitch = -1 * pitch #pitch is negative of the value in gazebo bc of frame difference\n"
   ]
  },
  {
   "cell_type": "code",
   "execution_count": 68,
   "metadata": {},
   "outputs": [
    {
     "name": "stdout",
     "output_type": "stream",
     "text": [
      "euler = (-0.02649138959668808, -0.25548267550166576, 0.028630079074831727)\n"
     ]
    }
   ],
   "source": [
    "euler = (roll,pitch,yaw)\n",
    "print(f\"{euler = }\")"
   ]
  },
  {
   "cell_type": "code",
   "execution_count": null,
   "metadata": {},
   "outputs": [],
   "source": []
  }
 ],
 "metadata": {
  "kernelspec": {
   "display_name": "wardiNN",
   "language": "python",
   "name": "python3"
  },
  "language_info": {
   "codemirror_mode": {
    "name": "ipython",
    "version": 3
   },
   "file_extension": ".py",
   "mimetype": "text/x-python",
   "name": "python",
   "nbconvert_exporter": "python",
   "pygments_lexer": "ipython3",
   "version": "3.8.10"
  }
 },
 "nbformat": 4,
 "nbformat_minor": 2
}

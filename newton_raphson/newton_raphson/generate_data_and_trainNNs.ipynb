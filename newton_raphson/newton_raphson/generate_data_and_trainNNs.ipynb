{
  "cells": [
    {
      "cell_type": "markdown",
      "metadata": {},
      "source": [
        "# Set up Data Generation"
      ]
    },
    {
      "cell_type": "code",
      "execution_count": 2,
      "metadata": {
        "id": "vw-kgNexfNfT"
      },
      "outputs": [],
      "source": [
        "import numpy as np\n",
        "import pandas as pd\n",
        "from torch.utils.data import Dataset\n",
        "import torch\n",
        "from numpy import random\n",
        "from sympy import *\n"
      ]
    },
    {
      "cell_type": "code",
      "execution_count": 12,
      "metadata": {},
      "outputs": [
        {
          "name": "stdout",
          "output_type": "stream",
          "text": [
            "hardware\n"
          ]
        }
      ],
      "source": [
        "sim = False\n",
        "print(f\"{'sim' if sim else 'hardware'}\")"
      ]
    },
    {
      "cell_type": "code",
      "execution_count": 13,
      "metadata": {
        "id": "nb5hdnQVfQtx"
      },
      "outputs": [
        {
          "name": "stdout",
          "output_type": "stream",
          "text": [
            "m = 1.69 because hardware mode is activated\n"
          ]
        }
      ],
      "source": [
        "g =  9.806\n",
        "m = 1.55 if sim else 1.69\n",
        "print(f\"{m = } because {'sim' if sim else 'hardware'} mode is activated\")"
      ]
    },
    {
      "cell_type": "code",
      "execution_count": 15,
      "metadata": {
        "id": "Xh6nzbElfX1x"
      },
      "outputs": [],
      "source": [
        "curr_thrust = random.uniform(0.5,27)\n",
        "curr_rolldot, curr_pitchdot, curr_yawdot = random.uniform(-0.9,0.9), random.uniform(-0.9,0.9), random.uniform(-0.9,0.9)\n"
      ]
    },
    {
      "cell_type": "code",
      "execution_count": 16,
      "metadata": {
        "id": "LsRmjro-mW1J"
      },
      "outputs": [],
      "source": [
        "curr_x, curr_y, curr_z = random.uniform(-3,3), random.uniform(-3,3), random.uniform(0,2)\n",
        "curr_vx, curr_vy, curr_vz = random.uniform(-.7,.7), random.uniform(-.7,.7), random.uniform(-.7,.7)\n",
        "curr_roll, curr_pitch, curr_yaw = random.uniform(-.2,.2), random.uniform(-.2,.2), random.uniform(-.2,.2)"
      ]
    },
    {
      "cell_type": "code",
      "execution_count": 17,
      "metadata": {
        "id": "0sstQOM86UaP"
      },
      "outputs": [],
      "source": [
        "T_lookahead = 0.8\n",
        "integration_step = 0.1\n",
        "integrations = T_lookahead / integration_step\n",
        "integrations_int = int(integrations)"
      ]
    },
    {
      "cell_type": "code",
      "execution_count": 18,
      "metadata": {
        "id": "YJvhJKzW_AVq"
      },
      "outputs": [],
      "source": [
        "C = np.array([[1, 0, 0, 0, 0, 0, 0, 0, 0],\n",
        "        [0, 1, 0, 0, 0, 0, 0, 0, 0],\n",
        "        [0, 0, 1, 0, 0, 0, 0, 0, 0],\n",
        "        [0, 0, 0, 0, 0, 0, 0, 0, 1]])"
      ]
    },
    {
      "cell_type": "code",
      "execution_count": 19,
      "metadata": {
        "id": "OlCuRAXi-Lgs"
      },
      "outputs": [],
      "source": [
        "cumm_change_x = 0.0\n",
        "cumm_change_y = 0.0\n",
        "cumm_change_z = 0.0\n",
        "cumm_change_vx = 0.0\n",
        "cumm_change_vy = 0.0\n",
        "cumm_change_vz = 0.0\n",
        "cumm_change_roll = 0.0\n",
        "cumm_change_pitch = 0.0\n",
        "cumm_change_yaw = 0.0\n",
        "\n",
        "xdot = curr_vx\n",
        "ydot = curr_vy\n",
        "zdot = curr_vz\n",
        "\n",
        "vxdot = -(curr_thrust/m) * (sin(curr_roll)*sin(curr_yaw) + cos(curr_roll)*cos(curr_yaw)*sin(curr_pitch));\n",
        "vydot = -(curr_thrust/m) * (cos(curr_roll)*sin(curr_yaw)*sin(curr_pitch) - cos(curr_yaw)*sin(curr_roll));\n",
        "vzdot = g - (curr_thrust/m) * (cos(curr_roll)*cos(curr_pitch));\n",
        "\n",
        "rolldot = curr_rolldot\n",
        "pitchdot = curr_pitchdot\n",
        "yawdot = curr_yawdot\n",
        "\n",
        "roll = curr_roll\n",
        "pitch = curr_pitch\n",
        "yaw = curr_yaw\n",
        "change_vx = 0\n",
        "change_vy = 0\n",
        "change_vz = 0\n"
      ]
    },
    {
      "cell_type": "code",
      "execution_count": 20,
      "metadata": {
        "id": "VSQ6b2Hr9X44"
      },
      "outputs": [],
      "source": [
        "for _ in range(integrations_int):\n",
        "  change_x = (xdot+cumm_change_vx) * integration_step;\n",
        "  change_y = (ydot+cumm_change_vy) * integration_step;\n",
        "  change_z = (zdot+cumm_change_vz) * integration_step;\n",
        "  change_vx = vxdot * integration_step;\n",
        "  change_vy = vydot * integration_step;\n",
        "  change_vz = vzdot * integration_step;\n",
        "  change_roll = rolldot * integration_step;\n",
        "  change_pitch = pitchdot * integration_step;\n",
        "  change_yaw = yawdot * integration_step;\n",
        "\n",
        "  roll = roll + change_roll;\n",
        "  pitch = pitch + change_pitch;\n",
        "  yaw =  yaw + change_yaw;\n",
        "\n",
        "  sr = sin(roll)\n",
        "  sy = sin(yaw)\n",
        "  sp = sin(pitch)\n",
        "\n",
        "  cr = cos(roll)\n",
        "  cp = cos(pitch)\n",
        "  cy = cos(yaw)\n",
        "\n",
        "\n",
        "  vxdot = -(curr_thrust/m) * (sr*sy + cr*cy*sp);\n",
        "  vydot = -(curr_thrust/m) * (cr*sy*sp - cy*sr);\n",
        "  vzdot = g - (curr_thrust/m) * (cr*cp);\n",
        "\n",
        "\n",
        "  cumm_change_x = cumm_change_x + change_x;\n",
        "  cumm_change_y = cumm_change_y + change_y;\n",
        "  cumm_change_z = cumm_change_z + change_z;\n",
        "  cumm_change_vx = cumm_change_vx + change_vx;\n",
        "  cumm_change_vy = cumm_change_vy + change_vy;\n",
        "  cumm_change_vz = cumm_change_vz + change_vz;\n",
        "  cumm_change_roll = cumm_change_roll + change_roll;\n",
        "  cumm_change_pitch = cumm_change_pitch + change_pitch;\n",
        "  cumm_change_yaw = cumm_change_yaw + change_yaw;\n",
        "\n",
        "\n",
        "\n",
        "\n",
        "x = curr_x + cumm_change_x\n",
        "y = curr_y + cumm_change_y\n",
        "z = curr_z + cumm_change_z\n",
        "\n",
        "vx = curr_vx + cumm_change_vx\n",
        "vy = curr_vy + cumm_change_vy\n",
        "vz = curr_vz + cumm_change_vz\n",
        "\n",
        "roll = curr_roll + cumm_change_roll;\n",
        "pitch = curr_pitch + cumm_change_pitch;\n",
        "yaw = curr_yaw + cumm_change_yaw;\n",
        "\n",
        "nonlin_pred = np.array([[x, y, z, vx, vy, vz, roll, pitch, yaw]]).T\n",
        "outputs = C @ nonlin_pred"
      ]
    },
    {
      "cell_type": "code",
      "execution_count": 21,
      "metadata": {
        "colab": {
          "base_uri": "https://localhost:8080/"
        },
        "id": "k5pfCk2590Tc",
        "outputId": "b7bcb19d-9732-4cb8-cb74-67aff7ba1de8"
      },
      "outputs": [
        {
          "data": {
            "text/plain": [
              "array([[0.0276239977661290],\n",
              "       [-0.223444792142065],\n",
              "       [2.07170495827081],\n",
              "       [0.283824351749256]], dtype=object)"
            ]
          },
          "execution_count": 21,
          "metadata": {},
          "output_type": "execute_result"
        }
      ],
      "source": [
        "outputs"
      ]
    },
    {
      "cell_type": "code",
      "execution_count": 22,
      "metadata": {
        "id": "pjKdpJ-wAdFX"
      },
      "outputs": [],
      "source": [
        "def get_outputs(num_data_gen=100):\n",
        "  allData = np.empty((0, 17))\n",
        "  # print(allData)\n",
        "  for i in range(num_data_gen):\n",
        "    curr_thrust = random.uniform(0.5,27)\n",
        "    curr_rolldot, curr_pitchdot, curr_yawdot = random.uniform(-0.9,0.9), random.uniform(-0.9,0.9), random.uniform(-0.9,0.9)\n",
        "    curr_x, curr_y, curr_z = random.uniform(-3,3), random.uniform(-3,3), random.uniform(0,-2)\n",
        "    # print(f\"curr_z: {curr_z}\")\n",
        "    # print(f\"curr_thrust: {curr_thrust}\")\n",
        "    curr_vx, curr_vy, curr_vz = random.uniform(-.7,.7), random.uniform(-.7,.7), random.uniform(-.7,.7)\n",
        "    curr_roll, curr_pitch, curr_yaw = random.uniform(-.2,.2), random.uniform(-.2,.2), random.uniform(-.2,.2)\n",
        "\n",
        "    stateVector = [curr_x, curr_y, curr_z, curr_vx, curr_vy, curr_vz, curr_roll, curr_pitch, curr_yaw]\n",
        "    inputVector = [curr_thrust, curr_rolldot, curr_pitchdot, curr_yawdot]\n",
        "\n",
        "    cumm_change_x = 0.0\n",
        "    cumm_change_y = 0.0\n",
        "    cumm_change_z = 0.0\n",
        "    cumm_change_vx = 0.0\n",
        "    cumm_change_vy = 0.0\n",
        "    cumm_change_vz = 0.0\n",
        "    cumm_change_roll = 0.0\n",
        "    cumm_change_pitch = 0.0\n",
        "    cumm_change_yaw = 0.0\n",
        "\n",
        "    xdot = curr_vx\n",
        "    ydot = curr_vy\n",
        "    zdot = curr_vz\n",
        "\n",
        "    vxdot = -(curr_thrust/m) * (sin(curr_roll)*sin(curr_yaw) + cos(curr_roll)*cos(curr_yaw)*sin(curr_pitch));\n",
        "    vydot = -(curr_thrust/m) * (cos(curr_roll)*sin(curr_yaw)*sin(curr_pitch) - cos(curr_yaw)*sin(curr_roll));\n",
        "    vzdot = g - (curr_thrust/m) * (cos(curr_roll)*cos(curr_pitch));\n",
        "\n",
        "    rolldot = curr_rolldot\n",
        "    pitchdot = curr_pitchdot\n",
        "    yawdot = curr_yawdot\n",
        "\n",
        "    roll = curr_roll\n",
        "    pitch = curr_pitch\n",
        "    yaw = curr_yaw\n",
        "    change_vx = 0\n",
        "    change_vy = 0\n",
        "    change_vz = 0\n",
        "\n",
        "    for _ in range(integrations_int):\n",
        "      change_x = (xdot+cumm_change_vx) * integration_step;\n",
        "      change_y = (ydot+cumm_change_vy) * integration_step;\n",
        "      change_z = (zdot+cumm_change_vz) * integration_step;\n",
        "      change_vx = vxdot * integration_step;\n",
        "      change_vy = vydot * integration_step;\n",
        "      change_vz = vzdot * integration_step;\n",
        "      change_roll = rolldot * integration_step;\n",
        "      change_pitch = pitchdot * integration_step;\n",
        "      change_yaw = yawdot * integration_step;\n",
        "\n",
        "      roll = roll + change_roll;\n",
        "      pitch = pitch + change_pitch;\n",
        "      yaw =  yaw + change_yaw;\n",
        "\n",
        "      sr = sin(roll)\n",
        "      sy = sin(yaw)\n",
        "      sp = sin(pitch)\n",
        "\n",
        "      cr = cos(roll)\n",
        "      cp = cos(pitch)\n",
        "      cy = cos(yaw)\n",
        "\n",
        "\n",
        "      vxdot = -(curr_thrust/m) * (sr*sy + cr*cy*sp);\n",
        "      vydot = -(curr_thrust/m) * (cr*sy*sp - cy*sr);\n",
        "      vzdot = g - (curr_thrust/m) * (cr*cp);\n",
        "\n",
        "\n",
        "      cumm_change_x = cumm_change_x + change_x;\n",
        "      cumm_change_y = cumm_change_y + change_y;\n",
        "      cumm_change_z = cumm_change_z + change_z;\n",
        "      cumm_change_vx = cumm_change_vx + change_vx;\n",
        "      cumm_change_vy = cumm_change_vy + change_vy;\n",
        "      cumm_change_vz = cumm_change_vz + change_vz;\n",
        "      cumm_change_roll = cumm_change_roll + change_roll;\n",
        "      cumm_change_pitch = cumm_change_pitch + change_pitch;\n",
        "      cumm_change_yaw = cumm_change_yaw + change_yaw;\n",
        "\n",
        "\n",
        "    x = curr_x + cumm_change_x\n",
        "    y = curr_y + cumm_change_y\n",
        "    z = curr_z + cumm_change_z\n",
        "    # print(f\"z: {z}\")\n",
        "    # print(\"\\n\")\n",
        "\n",
        "    vx = curr_vx + cumm_change_vx\n",
        "    vy = curr_vy + cumm_change_vy\n",
        "    vz = curr_vz + cumm_change_vz\n",
        "\n",
        "    roll = curr_roll + cumm_change_roll;\n",
        "    pitch = curr_pitch + cumm_change_pitch;\n",
        "    yaw = curr_yaw + cumm_change_yaw;\n",
        "\n",
        "    nonlin_pred = np.array([[x, y, z, vx, vy, vz, roll, pitch, yaw]]).T\n",
        "    outputs = C @ nonlin_pred\n",
        "\n",
        "    outputs2 = outputs.squeeze().tolist()\n",
        "    finalData = stateVector + inputVector + outputs2\n",
        "    finalData = np.array(finalData, dtype=float)\n",
        "    allData = np.vstack((allData, finalData))\n",
        "\n",
        "  return allData"
      ]
    },
    {
      "cell_type": "code",
      "execution_count": 12,
      "metadata": {
        "colab": {
          "base_uri": "https://localhost:8080/"
        },
        "id": "cw252eeDAdHw",
        "outputId": "c3ed7c85-42c6-43dd-fd60-655a94724949"
      },
      "outputs": [
        {
          "data": {
            "text/plain": [
              "(2, 17)"
            ]
          },
          "execution_count": 12,
          "metadata": {},
          "output_type": "execute_result"
        }
      ],
      "source": [
        "get_outputs(2).shape"
      ]
    },
    {
      "cell_type": "code",
      "execution_count": 23,
      "metadata": {},
      "outputs": [],
      "source": [
        "# data_all = get_outputs(num_data_gen=50_000)"
      ]
    },
    {
      "cell_type": "code",
      "execution_count": 24,
      "metadata": {},
      "outputs": [],
      "source": [
        "# np.save('50k_holybro', data_all)"
      ]
    },
    {
      "cell_type": "markdown",
      "metadata": {},
      "source": [
        "# Set up Neural Network Parameters and DataLoaders"
      ]
    },
    {
      "cell_type": "code",
      "execution_count": 3,
      "metadata": {
        "id": "VSGIt3PB_Sj6"
      },
      "outputs": [],
      "source": [
        "from torch import nn\n",
        "import torch\n",
        "from torch.utils.data import Dataset\n",
        "from torch.utils.data import DataLoader\n",
        "import matplotlib.pyplot as plt\n"
      ]
    },
    {
      "cell_type": "code",
      "execution_count": 4,
      "metadata": {
        "id": "g7YK_iAB_9uU"
      },
      "outputs": [],
      "source": [
        "num_epochs = 50\n",
        "batch_size = 128\n",
        "learning_rate = 1e-3"
      ]
    },
    {
      "cell_type": "code",
      "execution_count": 5,
      "metadata": {},
      "outputs": [],
      "source": [
        "data_all = np.load('50k_holybro.npy')"
      ]
    },
    {
      "cell_type": "code",
      "execution_count": 6,
      "metadata": {
        "id": "VIDuRmTDAFJD"
      },
      "outputs": [],
      "source": [
        "class QuadrotorDataset(Dataset):\n",
        "  def __init__(self, data_path = 'testing.csv', time_size=1, state_size = 9, ctrlinput_size = 4, training=True, data_all = data_all):\n",
        "    self.input_size = state_size + ctrlinput_size\n",
        "    self.output_size = ctrlinput_size\n",
        "\n",
        "    self.data = data_all\n",
        "\n",
        "    np.random.shuffle(data_all)\n",
        "    train_size = int(len(data_all)*0.8)\n",
        "\n",
        "\n",
        "    if training:\n",
        "      self.data = data_all[0:train_size]\n",
        "    else:\n",
        "      self.data = data_all[train_size:]\n",
        "\n",
        "    print(self.data.shape)\n",
        "\n",
        "  def __len__(self):\n",
        "    return len(self.data)\n",
        "\n",
        "  def __getitem__(self, idx):\n",
        "    # print(self.data[idx,:])\n",
        "    inputs = self.data[idx, 0: self.input_size]\n",
        "    outputs = self.data[idx, self.input_size:]\n",
        "    # print(type(inputs))\n",
        "    # print(type(outputs))\n",
        "    # print(inputs)\n",
        "    # print(inputs.dtype)\n",
        "    # print(\"h\")\n",
        "    return torch.FloatTensor(inputs), torch.FloatTensor(outputs).view(4)\n",
        "    return torch.FloatTensor(inputs), torch.FloatTensor(outputs)"
      ]
    },
    {
      "cell_type": "code",
      "execution_count": 7,
      "metadata": {
        "colab": {
          "base_uri": "https://localhost:8080/"
        },
        "id": "VFSfJ40v_uxX",
        "outputId": "3955bed6-f886-4bcd-b387-5d063947b727"
      },
      "outputs": [
        {
          "name": "stdout",
          "output_type": "stream",
          "text": [
            "(40000, 17)\n",
            "(10000, 17)\n"
          ]
        }
      ],
      "source": [
        "train_dataset = QuadrotorDataset(training=True)\n",
        "test_dataset = QuadrotorDataset(training=False)"
      ]
    },
    {
      "cell_type": "code",
      "execution_count": 8,
      "metadata": {
        "colab": {
          "base_uri": "https://localhost:8080/"
        },
        "id": "8vApRct6GopZ",
        "outputId": "b3003f64-9446-4762-f7da-34d090aa5a66"
      },
      "outputs": [
        {
          "data": {
            "text/plain": [
              "torch.Size([4])"
            ]
          },
          "execution_count": 8,
          "metadata": {},
          "output_type": "execute_result"
        }
      ],
      "source": [
        "train_dataset[0][1].shape"
      ]
    },
    {
      "cell_type": "code",
      "execution_count": 9,
      "metadata": {},
      "outputs": [
        {
          "name": "stdout",
          "output_type": "stream",
          "text": [
            "torch.Size([1, 4])\n",
            "tensor([[-1.2906,  1.1651,  0.4763,  0.2900]])\n",
            "2\n"
          ]
        }
      ],
      "source": [
        "train_dataloader = DataLoader(\n",
        "    train_dataset,\n",
        "    batch_size=1,\n",
        "    shuffle=True,\n",
        ")\n",
        "for data in train_dataloader:\n",
        "    input_data, output_data = data\n",
        "    print(output_data.shape)\n",
        "    print(output_data)\n",
        "    print(output_data.dim())\n",
        "    break"
      ]
    },
    {
      "cell_type": "code",
      "execution_count": 10,
      "metadata": {
        "id": "jzhjo0mz_uzv"
      },
      "outputs": [],
      "source": [
        "train_dataloader = DataLoader(\n",
        "    train_dataset,\n",
        "    batch_size=batch_size,\n",
        "    shuffle=True,\n",
        ")"
      ]
    },
    {
      "cell_type": "code",
      "execution_count": 11,
      "metadata": {
        "id": "7kKaQXdY_u2N"
      },
      "outputs": [],
      "source": [
        "test_dataloader = DataLoader(\n",
        "    test_dataset,\n",
        "    batch_size=batch_size,\n",
        "    shuffle=False,\n",
        ")"
      ]
    },
    {
      "cell_type": "markdown",
      "metadata": {},
      "source": [
        "# Feed Forward"
      ]
    },
    {
      "cell_type": "code",
      "execution_count": 38,
      "metadata": {
        "id": "DWzisOK-_i9w"
      },
      "outputs": [],
      "source": [
        "class FeedForward(nn.Module):\n",
        "    def __init__(self, input_size = 13, output_size = 4):\n",
        "        super().__init__()\n",
        "        self.feedfwd_stack = nn.Sequential(\n",
        "            nn.Linear(input_size, 128),\n",
        "            nn.ReLU(),\n",
        "            nn.Linear(128, 256),\n",
        "            nn.ReLU(),\n",
        "            nn.Linear(256,256),\n",
        "            nn.ReLU(),\n",
        "            nn.Linear(256, 128),\n",
        "            nn.ReLU(),\n",
        "            nn.Linear(128, output_size)\n",
        "        )\n",
        "    def forward(self, x):\n",
        "        logits = self.feedfwd_stack(x)\n",
        "        return logits"
      ]
    },
    {
      "cell_type": "code",
      "execution_count": 39,
      "metadata": {
        "colab": {
          "base_uri": "https://localhost:8080/"
        },
        "id": "hdPQgCaA_mKP",
        "outputId": "ba8ab677-12c7-4e05-8bbb-7c4d2559c2e3"
      },
      "outputs": [
        {
          "name": "stdout",
          "output_type": "stream",
          "text": [
            "average loss in epoch #0: 218.82931518554688\n",
            "epoch [1/50], loss:0.4196\n",
            "average loss in epoch #1: 3.6397225856781006\n",
            "epoch [2/50], loss:0.0319\n",
            "average loss in epoch #2: 1.031665563583374\n",
            "epoch [3/50], loss:0.0184\n",
            "average loss in epoch #3: 0.7688420414924622\n",
            "epoch [4/50], loss:0.0150\n",
            "average loss in epoch #4: 0.5308622121810913\n",
            "epoch [5/50], loss:0.0109\n",
            "average loss in epoch #5: 0.6754956841468811\n",
            "epoch [6/50], loss:0.0089\n",
            "average loss in epoch #6: 0.46894001960754395\n",
            "epoch [7/50], loss:0.0070\n",
            "average loss in epoch #7: 0.277279794216156\n",
            "epoch [8/50], loss:0.0070\n",
            "average loss in epoch #8: 0.4531775116920471\n",
            "epoch [9/50], loss:0.0066\n",
            "average loss in epoch #9: 0.3165721297264099\n",
            "epoch [10/50], loss:0.0055\n",
            "average loss in epoch #10: 0.17464973032474518\n",
            "epoch [11/50], loss:0.0058\n",
            "average loss in epoch #11: 0.2290477454662323\n",
            "epoch [12/50], loss:0.0056\n",
            "average loss in epoch #12: 0.32405099272727966\n",
            "epoch [13/50], loss:0.0052\n",
            "average loss in epoch #13: 0.22354598343372345\n",
            "epoch [14/50], loss:0.0049\n",
            "average loss in epoch #14: 0.19849368929862976\n",
            "epoch [15/50], loss:0.0045\n",
            "average loss in epoch #15: 0.16225074231624603\n",
            "epoch [16/50], loss:0.0039\n",
            "average loss in epoch #16: 0.1247372105717659\n",
            "epoch [17/50], loss:0.0046\n",
            "average loss in epoch #17: 0.11284897476434708\n",
            "epoch [18/50], loss:0.0041\n",
            "average loss in epoch #18: 0.33078181743621826\n",
            "epoch [19/50], loss:0.0039\n",
            "average loss in epoch #19: 0.2569156587123871\n",
            "epoch [20/50], loss:0.0032\n",
            "average loss in epoch #20: 0.11086877435445786\n",
            "epoch [21/50], loss:0.0041\n",
            "average loss in epoch #21: 0.1657077819108963\n",
            "epoch [22/50], loss:0.0038\n",
            "average loss in epoch #22: 0.1259230375289917\n",
            "epoch [23/50], loss:0.0035\n",
            "average loss in epoch #23: 0.14859022200107574\n",
            "epoch [24/50], loss:0.0038\n",
            "average loss in epoch #24: 0.2090546041727066\n",
            "epoch [25/50], loss:0.0028\n",
            "average loss in epoch #25: 0.0946120023727417\n",
            "epoch [26/50], loss:0.0030\n",
            "average loss in epoch #26: 0.09922514110803604\n",
            "epoch [27/50], loss:0.0034\n",
            "average loss in epoch #27: 0.07894109934568405\n",
            "epoch [28/50], loss:0.0025\n",
            "average loss in epoch #28: 0.14659355580806732\n",
            "epoch [29/50], loss:0.0036\n",
            "average loss in epoch #29: 0.06892325729131699\n",
            "epoch [30/50], loss:0.0026\n",
            "average loss in epoch #30: 0.10076957941055298\n",
            "epoch [31/50], loss:0.0008\n",
            "average loss in epoch #31: 0.033782199025154114\n",
            "epoch [32/50], loss:0.0007\n",
            "average loss in epoch #32: 0.03271503373980522\n",
            "epoch [33/50], loss:0.0007\n",
            "average loss in epoch #33: 0.03187081962823868\n",
            "epoch [34/50], loss:0.0007\n",
            "average loss in epoch #34: 0.031838323920965195\n",
            "epoch [35/50], loss:0.0007\n",
            "average loss in epoch #35: 0.030928727239370346\n",
            "epoch [36/50], loss:0.0007\n",
            "average loss in epoch #36: 0.031079692766070366\n",
            "epoch [37/50], loss:0.0007\n",
            "average loss in epoch #37: 0.03523852676153183\n",
            "epoch [38/50], loss:0.0007\n",
            "average loss in epoch #38: 0.03334825858473778\n",
            "epoch [39/50], loss:0.0007\n",
            "average loss in epoch #39: 0.029754143208265305\n",
            "epoch [40/50], loss:0.0007\n",
            "average loss in epoch #40: 0.030760901048779488\n",
            "epoch [41/50], loss:0.0007\n",
            "average loss in epoch #41: 0.028114376589655876\n",
            "epoch [42/50], loss:0.0007\n",
            "average loss in epoch #42: 0.030170902609825134\n",
            "epoch [43/50], loss:0.0007\n",
            "average loss in epoch #43: 0.02945314347743988\n",
            "epoch [44/50], loss:0.0006\n",
            "average loss in epoch #44: 0.03077262081205845\n",
            "epoch [45/50], loss:0.0006\n",
            "average loss in epoch #45: 0.0300656296312809\n",
            "epoch [46/50], loss:0.0006\n",
            "average loss in epoch #46: 0.030277151614427567\n",
            "epoch [47/50], loss:0.0006\n",
            "average loss in epoch #47: 0.034586358815431595\n",
            "epoch [48/50], loss:0.0006\n",
            "average loss in epoch #48: 0.0415085144340992\n",
            "epoch [49/50], loss:0.0006\n",
            "average loss in epoch #49: 0.02843119204044342\n",
            "epoch [50/50], loss:0.0006\n",
            "average loss in epoch #49: 0.02818351984024048\n"
          ]
        }
      ],
      "source": [
        "model_FF = FeedForward()\n",
        "\n",
        "# optimizer = torch.optim.SGD(model.parameters(), lr=learning_rate, momentum = 0.9, weight_decay=1e-5)\n",
        "optimizer = torch.optim.AdamW(model_FF.parameters(), lr=learning_rate, weight_decay=1e-4)\n",
        "\n",
        "\n",
        "criterion = nn.MSELoss()\n",
        "scheduler = torch.optim.lr_scheduler.StepLR(optimizer, step_size=30, gamma=0.1)\n",
        "FF_accuracy_array = np.zeros(num_epochs)\n",
        "\n",
        "def test_generalization(epoch):\n",
        "    #Before training and at every stage of training\n",
        "    total_loss = []\n",
        "    with torch.no_grad():\n",
        "      for data in test_dataloader:\n",
        "        input_data, output_data = data\n",
        "\n",
        "        output_pred = model_FF(input_data)\n",
        "        loss = criterion(output_pred, output_data)\n",
        "\n",
        "        total_loss.append(loss)\n",
        "\n",
        "\n",
        "    average_loss = sum(total_loss) / len(total_loss)\n",
        "    print(f\"average loss in epoch #{epoch}: {average_loss * 100}\")\n",
        "    FF_accuracy_array[epoch] = average_loss * 100\n",
        "\n",
        "\n",
        "# gradients_by_epoch = {param: [] for param in model_FF.parameters()}\n",
        "\n",
        "loss_values = []\n",
        "\n",
        "def train_feedfwd():\n",
        "  #train:\n",
        "  for epoch in range(num_epochs):\n",
        "\n",
        "    # test before training starts and at every epoch\n",
        "    test_generalization(epoch)\n",
        "\n",
        "\n",
        "\n",
        "    #train over epochs\n",
        "    total_loss = 0\n",
        "    for data in train_dataloader:\n",
        "        input_data, output_data = data\n",
        "\n",
        "        output_pred = model_FF(input_data)\n",
        "        loss = criterion(output_pred, output_data)\n",
        "\n",
        "        optimizer.zero_grad()\n",
        "        loss.backward()\n",
        "\n",
        "        # for param in model_FF.parameters():\n",
        "        #     gradients_by_epoch[param].append(param.grad.clone().detach())\n",
        "\n",
        "        optimizer.step()\n",
        "\n",
        "        # for param in model_FF.parameters():\n",
        "        #     param.grad = None\n",
        "\n",
        "\n",
        "\n",
        "#       optimizer.step()\n",
        "\n",
        "\n",
        "\n",
        "        total_loss += loss.data\n",
        "    scheduler.step()\n",
        "    print('epoch [{}/{}], loss:{:.4f}'\n",
        "          .format(epoch+1, num_epochs, total_loss/12995*100))\n",
        "    loss_values.append(total_loss/12995*100)\n",
        "\n",
        "  test_generalization(epoch) #after final training\n",
        "\n",
        "train_feedfwd()"
      ]
    },
    {
      "cell_type": "code",
      "execution_count": 40,
      "metadata": {
        "colab": {
          "base_uri": "https://localhost:8080/",
          "height": 472
        },
        "id": "34sKC-GyWCBn",
        "outputId": "72ef2447-de53-4cd9-f015-7212ead40c12"
      },
      "outputs": [
        {
          "data": {
            "image/png": "[encoded data removed]",
            "text/plain": [
              "<Figure size 640x480 with 1 Axes>"
            ]
          },
          "metadata": {},
          "output_type": "display_data"
        }
      ],
      "source": [
        "# Plot avg error over epochs\n",
        "x = np.arange(1,num_epochs+1 , dtype = int)\n",
        "fig, ax = plt.subplots()\n",
        "plt.plot(x, FF_accuracy_array.T)\n",
        "ax.set_xlabel('Epoch')\n",
        "ax.set_ylabel('Accuracy %')\n",
        "ax.set_title('FF Test Loss Over Time')\n",
        "plt.show()"
      ]
    },
    {
      "cell_type": "code",
      "execution_count": 41,
      "metadata": {
        "id": "G0ApMOCcWul_"
      },
      "outputs": [],
      "source": [
        "PATH = \"holybro_ff.pt\"\n",
        "torch.save(model_FF.state_dict(), PATH)"
      ]
    },
    {
      "cell_type": "markdown",
      "metadata": {},
      "source": [
        "# LSTM"
      ]
    },
    {
      "cell_type": "code",
      "execution_count": 18,
      "metadata": {},
      "outputs": [],
      "source": [
        "class LSTMModel(nn.Module):\n",
        "    def __init__(self, input_size=13, hidden_size=64, num_layers=5, output_size=4):\n",
        "        super().__init__()\n",
        "        self.lstm = nn.LSTM(input_size, hidden_size, num_layers, batch_first=True)\n",
        "        self.fc = nn.Linear(hidden_size, output_size)\n",
        "\n",
        "    def forward(self, x):\n",
        "        out, _ = self.lstm(x)\n",
        "        return self.fc(out)"
      ]
    },
    {
      "cell_type": "code",
      "execution_count": 19,
      "metadata": {},
      "outputs": [],
      "source": [
        "# model = FeedForward()\n",
        "modelLSTM = LSTMModel()\n",
        "\n",
        "# optimizer = torch.optim.SGD(modelLSTM.parameters(), lr=learning_rate, momentum = 0.9, weight_decay=1e-5)\n",
        "optimizer = torch.optim.AdamW(modelLSTM.parameters(), lr=learning_rate, weight_decay=1e-4)\n",
        "\n",
        "\n",
        "criterion = nn.MSELoss()\n",
        "scheduler = torch.optim.lr_scheduler.StepLR(optimizer, step_size=30, gamma=0.1)\n",
        "LSTM_accuracy_array = np.zeros(num_epochs)"
      ]
    },
    {
      "cell_type": "code",
      "execution_count": 20,
      "metadata": {},
      "outputs": [],
      "source": [
        "def test_generalization(epoch):\n",
        "    #Before training and at every stage of training\n",
        "    total_loss = []\n",
        "    with torch.no_grad():\n",
        "      for data in test_dataloader:\n",
        "        input_data, output_data = data\n",
        "\n",
        "        output_pred = modelLSTM(input_data)\n",
        "        loss = criterion(output_pred, output_data)\n",
        "\n",
        "        total_loss.append(loss)\n",
        "\n",
        "\n",
        "    average_loss = sum(total_loss) / len(total_loss)\n",
        "    print(f\"average loss in epoch #{epoch}: {average_loss * 100}\")\n",
        "    LSTM_accuracy_array[epoch] = average_loss * 100\n",
        "\n",
        "\n",
        "loss_values = []\n",
        "\n",
        "def train_LSTM():\n",
        "  #train:\n",
        "  for epoch in range(num_epochs):\n",
        "\n",
        "    # test before training starts and at every epoch\n",
        "    test_generalization(epoch)\n",
        "\n",
        "\n",
        "\n",
        "    #train over epochs\n",
        "    total_loss = 0\n",
        "    for data in train_dataloader:\n",
        "        input_data, output_data = data\n",
        "\n",
        "        output_pred = modelLSTM(input_data)\n",
        "        loss = criterion(output_pred, output_data)\n",
        "\n",
        "        optimizer.zero_grad()\n",
        "        loss.backward()\n",
        "\n",
        "        # for param in modelLSTM.parameters():\n",
        "        #     gradients_by_epoch[param].append(param.grad.clone().detach())\n",
        "\n",
        "        optimizer.step()\n",
        "\n",
        "        # for param in modelLSTM.parameters():\n",
        "        #     param.grad = None\n",
        "\n",
        "\n",
        "\n",
        "#       optimizer.step()\n",
        "\n",
        "\n",
        "\n",
        "        total_loss += loss.data\n",
        "    scheduler.step()\n",
        "    print('epoch [{}/{}], loss:{:.4f}'\n",
        "          .format(epoch+1, num_epochs, total_loss/12995*100))\n",
        "    loss_values.append(total_loss/12995*100)\n",
        "\n",
        "  test_generalization(epoch) #after final training\n"
      ]
    },
    {
      "cell_type": "code",
      "execution_count": 21,
      "metadata": {},
      "outputs": [
        {
          "name": "stdout",
          "output_type": "stream",
          "text": [
            "average loss in epoch #0: 223.4302215576172\n",
            "epoch [1/50], loss:3.9751\n",
            "average loss in epoch #1: 73.0782241821289\n",
            "epoch [2/50], loss:1.1409\n",
            "average loss in epoch #2: 12.166862487792969\n",
            "epoch [3/50], loss:0.1776\n",
            "average loss in epoch #3: 6.0021538734436035\n",
            "epoch [4/50], loss:0.1404\n",
            "average loss in epoch #4: 5.44034481048584\n",
            "epoch [5/50], loss:0.1332\n",
            "average loss in epoch #5: 5.221969127655029\n",
            "epoch [6/50], loss:0.1290\n",
            "average loss in epoch #6: 5.233341217041016\n",
            "epoch [7/50], loss:0.1269\n",
            "average loss in epoch #7: 5.004148483276367\n",
            "epoch [8/50], loss:0.1246\n",
            "average loss in epoch #8: 5.465175628662109\n",
            "epoch [9/50], loss:0.1226\n",
            "average loss in epoch #9: 5.164748191833496\n",
            "epoch [10/50], loss:0.1208\n",
            "average loss in epoch #10: 4.885048866271973\n",
            "epoch [11/50], loss:0.1196\n",
            "average loss in epoch #11: 4.85483980178833\n",
            "epoch [12/50], loss:0.1185\n",
            "average loss in epoch #12: 4.7897233963012695\n",
            "epoch [13/50], loss:0.1175\n",
            "average loss in epoch #13: 4.782771110534668\n",
            "epoch [14/50], loss:0.1177\n",
            "average loss in epoch #14: 4.753636837005615\n",
            "epoch [15/50], loss:0.1157\n",
            "average loss in epoch #15: 4.402629852294922\n",
            "epoch [16/50], loss:0.0355\n",
            "average loss in epoch #16: 0.5320760011672974\n",
            "epoch [17/50], loss:0.0093\n",
            "average loss in epoch #17: 0.22251352667808533\n",
            "epoch [18/50], loss:0.0066\n",
            "average loss in epoch #18: 0.28437700867652893\n",
            "epoch [19/50], loss:0.0055\n",
            "average loss in epoch #19: 0.17355619370937347\n",
            "epoch [20/50], loss:0.0049\n",
            "average loss in epoch #20: 0.2612982392311096\n",
            "epoch [21/50], loss:0.0045\n",
            "average loss in epoch #21: 0.21153132617473602\n",
            "epoch [22/50], loss:0.0043\n",
            "average loss in epoch #22: 0.16464689373970032\n",
            "epoch [23/50], loss:0.0039\n",
            "average loss in epoch #23: 0.1645718514919281\n",
            "epoch [24/50], loss:0.0039\n",
            "average loss in epoch #24: 0.17858968675136566\n",
            "epoch [25/50], loss:0.0038\n",
            "average loss in epoch #25: 0.12588804960250854\n",
            "epoch [26/50], loss:0.0036\n",
            "average loss in epoch #26: 0.22185197472572327\n",
            "epoch [27/50], loss:0.0043\n",
            "average loss in epoch #27: 0.13937848806381226\n",
            "epoch [28/50], loss:0.0030\n",
            "average loss in epoch #28: 0.13801255822181702\n",
            "epoch [29/50], loss:0.0033\n",
            "average loss in epoch #29: 0.16093012690544128\n",
            "epoch [30/50], loss:0.0031\n",
            "average loss in epoch #30: 0.11992570757865906\n",
            "epoch [31/50], loss:0.0012\n",
            "average loss in epoch #31: 0.05118416249752045\n",
            "epoch [32/50], loss:0.0011\n",
            "average loss in epoch #32: 0.049243103712797165\n",
            "epoch [33/50], loss:0.0011\n",
            "average loss in epoch #33: 0.04900744557380676\n",
            "epoch [34/50], loss:0.0011\n",
            "average loss in epoch #34: 0.04935673251748085\n",
            "epoch [35/50], loss:0.0011\n",
            "average loss in epoch #35: 0.04838977009057999\n",
            "epoch [36/50], loss:0.0011\n",
            "average loss in epoch #36: 0.04574742913246155\n",
            "epoch [37/50], loss:0.0010\n",
            "average loss in epoch #37: 0.044528502970933914\n",
            "epoch [38/50], loss:0.0010\n",
            "average loss in epoch #38: 0.04390142112970352\n",
            "epoch [39/50], loss:0.0010\n",
            "average loss in epoch #39: 0.044528014957904816\n",
            "epoch [40/50], loss:0.0010\n",
            "average loss in epoch #40: 0.0447942353785038\n",
            "epoch [41/50], loss:0.0010\n",
            "average loss in epoch #41: 0.04786118492484093\n",
            "epoch [42/50], loss:0.0010\n",
            "average loss in epoch #42: 0.041369128972291946\n",
            "epoch [43/50], loss:0.0010\n",
            "average loss in epoch #43: 0.04218913987278938\n",
            "epoch [44/50], loss:0.0009\n",
            "average loss in epoch #44: 0.03956705331802368\n",
            "epoch [45/50], loss:0.0009\n",
            "average loss in epoch #45: 0.04012194275856018\n",
            "epoch [46/50], loss:0.0009\n",
            "average loss in epoch #46: 0.04226928576827049\n",
            "epoch [47/50], loss:0.0009\n",
            "average loss in epoch #47: 0.04149262234568596\n",
            "epoch [48/50], loss:0.0009\n",
            "average loss in epoch #48: 0.042212601751089096\n",
            "epoch [49/50], loss:0.0009\n",
            "average loss in epoch #49: 0.03463716432452202\n",
            "epoch [50/50], loss:0.0008\n",
            "average loss in epoch #49: 0.034892790019512177\n"
          ]
        }
      ],
      "source": [
        "train_LSTM()"
      ]
    },
    {
      "cell_type": "code",
      "execution_count": 28,
      "metadata": {},
      "outputs": [
        {
          "data": {
            "image/png": "[encoded data removed]",
            "text/plain": [
              "<Figure size 640x480 with 1 Axes>"
            ]
          },
          "metadata": {},
          "output_type": "display_data"
        }
      ],
      "source": [
        "# Plot avg error over epochs\n",
        "x = np.arange(1,num_epochs+1 , dtype = int)\n",
        "fig, ax = plt.subplots()\n",
        "plt.plot(x, LSTM_accuracy_array.T)\n",
        "ax.set_xlabel('Epoch')\n",
        "ax.set_ylabel('Accuracy %')\n",
        "ax.set_title('LSTM Accuracy Test Accuracy Over Time')\n",
        "plt.show()"
      ]
    },
    {
      "cell_type": "code",
      "execution_count": 31,
      "metadata": {},
      "outputs": [],
      "source": [
        "PATH = \"holybro_lstm.pt\"\n",
        "torch.save(modelLSTM.state_dict(), PATH)"
      ]
    },
    {
      "cell_type": "markdown",
      "metadata": {},
      "source": [
        "# RNN"
      ]
    },
    {
      "cell_type": "code",
      "execution_count": 23,
      "metadata": {},
      "outputs": [],
      "source": [
        "# Define the RNN model class\n",
        "num_epochs = 50\n",
        "class RNNModel(nn.Module):\n",
        "    def __init__(self, input_size, hidden_size, num_layers, output_size):\n",
        "        super(RNNModel, self).__init__()\n",
        "#         super(RNNModel, self).__init()\n",
        "        self.hidden_size = hidden_size\n",
        "        self.num_layers = num_layers\n",
        "        self.output_size = output_size\n",
        "\n",
        "        # Define the RNN layer\n",
        "        self.rnn = nn.RNN(input_size, hidden_size, num_layers, batch_first=True)\n",
        "\n",
        "        # Define the output layer\n",
        "        self.fc = nn.Linear(hidden_size, output_size)\n",
        "\n",
        "    def forward(self, x):\n",
        "        # Initialize hidden state with zeros\n",
        "        h0 = torch.zeros(self.num_layers, x.size(0), self.hidden_size)\n",
        "\n",
        "        # print(f\"self.num_layers: {self.num_layers}\")\n",
        "        # print(f\"x.size(0): {x.size(0)}\")\n",
        "        # print(f\"self.hidden_size: {self.hidden_size}\")\n",
        "        out, _ = self.rnn(x, h0)\n",
        "\n",
        "        # print(f\"out.shape: {out.shape}\")\n",
        "\n",
        "        out = self.fc(out[-1, :, :])\n",
        "        # print(f\"out.shape: {out.shape}\")\n",
        "        # quit()\n",
        "        return out\n",
        "\n"
      ]
    },
    {
      "cell_type": "code",
      "execution_count": 24,
      "metadata": {},
      "outputs": [],
      "source": [
        "# Set the input size, hidden size, number of layers, and output size\n",
        "input_size = 13  # Example input size (adjust as needed)\n",
        "hidden_size = 4  # Number of units in the hidden state\n",
        "num_layers = 8  # Number of RNN layers\n",
        "output_size = 4  # Example output size (adjust as needed)\n",
        "\n",
        "# Create the RNN model\n",
        "modelRNN = RNNModel(input_size, hidden_size, num_layers, output_size)\n",
        "\n",
        "# Define the loss function and optimizer\n",
        "criterion = nn.MSELoss()\n",
        "optimizer = torch.optim.AdamW(modelRNN.parameters(), lr=0.005)\n",
        "# optimizer = torch.optim.SGD(modelRNN.parameters(), lr=learning_rate, momentum = 0.9, weight_decay=1e-5)\n",
        "\n",
        "scheduler = torch.optim.lr_scheduler.StepLR(optimizer, step_size=30, gamma=0.1)\n",
        "RNN_accuracy_array = np.zeros(num_epochs)\n"
      ]
    },
    {
      "cell_type": "code",
      "execution_count": 25,
      "metadata": {},
      "outputs": [],
      "source": [
        "def test_generalization(epoch):\n",
        "    #Before training and at every stage of training\n",
        "    total_loss = []\n",
        "    with torch.no_grad():\n",
        "      for data in test_dataloader:\n",
        "        input_data, output_data = data\n",
        "\n",
        "\n",
        "        # Add a batch dimension if necessary\n",
        "        if input_data.dim() == 2:\n",
        "            input_data = input_data.unsqueeze(0)\n",
        "\n",
        "        output_pred = modelRNN(input_data)\n",
        "        loss = criterion(output_pred, output_data)\n",
        "\n",
        "        total_loss.append(loss)\n",
        "\n",
        "\n",
        "    average_loss = sum(total_loss) / len(total_loss)\n",
        "    print(f\"average test error in epoch #{epoch}: {average_loss * 100}%\")\n",
        "    RNN_accuracy_array[epoch] = average_loss * 100\n",
        "\n",
        "\n",
        "\n",
        "loss_values = []\n",
        "\n",
        "def train_RNN():\n",
        "  #train:\n",
        "  for epoch in range(num_epochs):\n",
        "\n",
        "    # test before training starts and at every epoch\n",
        "    test_generalization(epoch)\n",
        "\n",
        "\n",
        "\n",
        "    #train over epochs\n",
        "    total_loss = 0\n",
        "    for data in train_dataloader:\n",
        "        input_data, output_data = data\n",
        "\n",
        "\n",
        "        # Add a batch dimension if necessary\n",
        "        if input_data.dim() == 2:\n",
        "            input_data = input_data.unsqueeze(0)\n",
        "        output_pred = modelRNN(input_data)\n",
        "        loss = criterion(output_pred, output_data)\n",
        "\n",
        "        optimizer.zero_grad()\n",
        "        loss.backward()\n",
        "\n",
        "        # for param in modelRNN.parameters():\n",
        "        #     gradients_by_epoch[param].append(param.grad.clone().detach())\n",
        "\n",
        "        optimizer.step()\n",
        "\n",
        "        # for param in modelRNN.parameters():\n",
        "        #     param.grad = None\n",
        "\n",
        "\n",
        "\n",
        "#       optimizer.step()\n",
        "\n",
        "\n",
        "\n",
        "        total_loss += loss.data\n",
        "    scheduler.step()\n",
        "    print('epoch [{}/{}], loss:{:.4f}'\n",
        "          .format(epoch+1, num_epochs, total_loss/12995*100))\n",
        "    loss_values.append(total_loss/12995*100)\n",
        "\n",
        "  test_generalization(epoch) #after final training\n"
      ]
    },
    {
      "cell_type": "code",
      "execution_count": 26,
      "metadata": {},
      "outputs": [
        {
          "name": "stdout",
          "output_type": "stream",
          "text": [
            "average test error in epoch #0: 254.60426330566406%\n",
            "epoch [1/50], loss:4.0289\n",
            "average test error in epoch #1: 137.67124938964844%\n",
            "epoch [2/50], loss:2.8302\n",
            "average test error in epoch #2: 81.06857299804688%\n",
            "epoch [3/50], loss:1.6348\n",
            "average test error in epoch #3: 60.07935333251953%\n",
            "epoch [4/50], loss:1.3672\n",
            "average test error in epoch #4: 56.19047927856445%\n",
            "epoch [5/50], loss:1.2938\n",
            "average test error in epoch #5: 53.27189636230469%\n",
            "epoch [6/50], loss:1.2342\n",
            "average test error in epoch #6: 50.5198974609375%\n",
            "epoch [7/50], loss:1.1964\n",
            "average test error in epoch #7: 51.494102478027344%\n",
            "epoch [8/50], loss:1.1694\n",
            "average test error in epoch #8: 48.17242431640625%\n",
            "epoch [9/50], loss:1.1437\n",
            "average test error in epoch #9: 48.737022399902344%\n",
            "epoch [10/50], loss:1.1395\n",
            "average test error in epoch #10: 46.74382781982422%\n",
            "epoch [11/50], loss:1.1272\n",
            "average test error in epoch #11: 46.799354553222656%\n",
            "epoch [12/50], loss:1.1238\n",
            "average test error in epoch #12: 46.32181167602539%\n",
            "epoch [13/50], loss:1.1127\n",
            "average test error in epoch #13: 46.84686279296875%\n",
            "epoch [14/50], loss:1.0975\n",
            "average test error in epoch #14: 46.533817291259766%\n",
            "epoch [15/50], loss:1.1042\n",
            "average test error in epoch #15: 45.68748474121094%\n",
            "epoch [16/50], loss:1.0901\n",
            "average test error in epoch #16: 45.81132888793945%\n",
            "epoch [17/50], loss:1.0847\n",
            "average test error in epoch #17: 44.904483795166016%\n",
            "epoch [18/50], loss:1.0894\n",
            "average test error in epoch #18: 44.51927947998047%\n",
            "epoch [19/50], loss:1.0624\n",
            "average test error in epoch #19: 44.15800094604492%\n",
            "epoch [20/50], loss:1.0357\n",
            "average test error in epoch #20: 42.72043228149414%\n",
            "epoch [21/50], loss:1.0120\n",
            "average test error in epoch #21: 40.814292907714844%\n",
            "epoch [22/50], loss:0.9813\n",
            "average test error in epoch #22: 39.90790557861328%\n",
            "epoch [23/50], loss:0.8542\n",
            "average test error in epoch #23: 24.846111297607422%\n",
            "epoch [24/50], loss:0.3832\n",
            "average test error in epoch #24: 13.44487476348877%\n",
            "epoch [25/50], loss:0.2658\n",
            "average test error in epoch #25: 11.070444107055664%\n",
            "epoch [26/50], loss:0.2323\n",
            "average test error in epoch #26: 9.193647384643555%\n",
            "epoch [27/50], loss:0.2091\n",
            "average test error in epoch #27: 10.25435733795166%\n",
            "epoch [28/50], loss:0.2020\n",
            "average test error in epoch #28: 7.549230098724365%\n",
            "epoch [29/50], loss:0.1919\n",
            "average test error in epoch #29: 8.402097702026367%\n",
            "epoch [30/50], loss:0.1873\n",
            "average test error in epoch #30: 7.7281975746154785%\n",
            "epoch [31/50], loss:0.1693\n",
            "average test error in epoch #31: 6.9299774169921875%\n",
            "epoch [32/50], loss:0.1680\n",
            "average test error in epoch #32: 6.898655891418457%\n",
            "epoch [33/50], loss:0.1669\n",
            "average test error in epoch #33: 6.831915855407715%\n",
            "epoch [34/50], loss:0.1660\n",
            "average test error in epoch #34: 6.796267509460449%\n",
            "epoch [35/50], loss:0.1649\n",
            "average test error in epoch #35: 6.758453845977783%\n",
            "epoch [36/50], loss:0.1644\n",
            "average test error in epoch #36: 6.700168609619141%\n",
            "epoch [37/50], loss:0.1636\n",
            "average test error in epoch #37: 6.820976734161377%\n",
            "epoch [38/50], loss:0.1630\n",
            "average test error in epoch #38: 6.659502029418945%\n",
            "epoch [39/50], loss:0.1626\n",
            "average test error in epoch #39: 6.648455619812012%\n",
            "epoch [40/50], loss:0.1626\n",
            "average test error in epoch #40: 6.594367504119873%\n",
            "epoch [41/50], loss:0.1611\n",
            "average test error in epoch #41: 6.58330774307251%\n",
            "epoch [42/50], loss:0.1603\n",
            "average test error in epoch #42: 6.5752973556518555%\n",
            "epoch [43/50], loss:0.1598\n",
            "average test error in epoch #43: 6.524138927459717%\n",
            "epoch [44/50], loss:0.1599\n",
            "average test error in epoch #44: 6.5795183181762695%\n",
            "epoch [45/50], loss:0.1589\n",
            "average test error in epoch #45: 6.595003604888916%\n",
            "epoch [46/50], loss:0.1592\n",
            "average test error in epoch #46: 6.492972373962402%\n",
            "epoch [47/50], loss:0.1586\n",
            "average test error in epoch #47: 6.519134998321533%\n",
            "epoch [48/50], loss:0.1585\n",
            "average test error in epoch #48: 6.499516010284424%\n",
            "epoch [49/50], loss:0.1578\n",
            "average test error in epoch #49: 6.409373760223389%\n",
            "epoch [50/50], loss:0.1571\n",
            "average test error in epoch #49: 6.559453964233398%\n"
          ]
        }
      ],
      "source": [
        "train_RNN()"
      ]
    },
    {
      "cell_type": "code",
      "execution_count": 29,
      "metadata": {},
      "outputs": [
        {
          "data": {
            "image/png": "[encoded data removed]",
            "text/plain": [
              "<Figure size 640x480 with 1 Axes>"
            ]
          },
          "metadata": {},
          "output_type": "display_data"
        }
      ],
      "source": [
        "# Plot avg error over epochs\n",
        "x = np.arange(1,num_epochs+1 , dtype = int)\n",
        "fig, ax = plt.subplots()\n",
        "plt.plot(x, RNN_accuracy_array.T)\n",
        "ax.set_xlabel('Epoch')\n",
        "ax.set_ylabel('Accuracy %')\n",
        "ax.set_title('RNN Accuracy Test Accuracy Over Time')\n",
        "plt.show()"
      ]
    },
    {
      "cell_type": "code",
      "execution_count": 30,
      "metadata": {},
      "outputs": [],
      "source": [
        "PATH = \"holybro_rnn.pt\"\n",
        "torch.save(modelRNN.state_dict(), PATH)"
      ]
    },
    {
      "cell_type": "code",
      "execution_count": 63,
      "metadata": {},
      "outputs": [
        {
          "data": {
            "image/png": "[encoded data removed]",
            "text/plain": [
              "<Figure size 1000x600 with 1 Axes>"
            ]
          },
          "metadata": {},
          "output_type": "display_data"
        }
      ],
      "source": [
        "# Create x-values (e.g., epochs)\n",
        "epochs = range(1, num_epochs + 1)\n",
        "\n",
        "# Plot the loss values for each model\n",
        "plt.figure(figsize=(10, 6))\n",
        "plt.plot(epochs, FF_accuracy_array, label='FF', marker='o')\n",
        "plt.plot(epochs, RNN_accuracy_array, label='RNN', marker='o')\n",
        "plt.plot(epochs, LSTM_accuracy_array, label='LSTM', marker='o')\n",
        "\n",
        "# Add labels and a legend\n",
        "plt.xlabel('Epochs')\n",
        "plt.ylabel('Loss')\n",
        "plt.title('Accuracy over Epochs Comparison for Three Models')\n",
        "plt.legend()\n",
        "\n",
        "# Show the plot\n",
        "plt.grid()\n",
        "plt.show()"
      ]
    },
    {
      "cell_type": "code",
      "execution_count": null,
      "metadata": {},
      "outputs": [],
      "source": []
    },
    {
      "cell_type": "code",
      "execution_count": null,
      "metadata": {},
      "outputs": [],
      "source": []
    },
    {
      "cell_type": "code",
      "execution_count": null,
      "metadata": {},
      "outputs": [],
      "source": []
    },
    {
      "cell_type": "code",
      "execution_count": null,
      "metadata": {},
      "outputs": [],
      "source": []
    }
  ],
  "metadata": {
    "colab": {
      "provenance": []
    },
    "kernelspec": {
      "display_name": "Python 3",
      "name": "python3"
    },
    "language_info": {
      "codemirror_mode": {
        "name": "ipython",
        "version": 3
      },
      "file_extension": ".py",
      "mimetype": "text/x-python",
      "name": "python",
      "nbconvert_exporter": "python",
      "pygments_lexer": "ipython3",
      "version": "3.8.10"
    }
  },
  "nbformat": 4,
  "nbformat_minor": 0
}
